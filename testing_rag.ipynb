{
 "cells": [
  {
   "metadata": {
    "ExecuteTime": {
     "end_time": "2025-05-05T12:14:12.767950Z",
     "start_time": "2025-05-05T12:14:12.759415Z"
    }
   },
   "cell_type": "code",
   "source": [
    "import dotenv\n",
    "import os\n",
    "dotenv.load_dotenv()"
   ],
   "id": "a074771a41355d58",
   "outputs": [
    {
     "data": {
      "text/plain": [
       "True"
      ]
     },
     "execution_count": 26,
     "metadata": {},
     "output_type": "execute_result"
    }
   ],
   "execution_count": 26
  },
  {
   "metadata": {
    "ExecuteTime": {
     "end_time": "2025-05-05T12:14:13.384088Z",
     "start_time": "2025-05-05T12:14:13.380430Z"
    }
   },
   "cell_type": "code",
   "source": "key = os.environ[\"GROQ_API_KEY\"]",
   "id": "9437b95b6377b427",
   "outputs": [],
   "execution_count": 27
  },
  {
   "metadata": {
    "ExecuteTime": {
     "end_time": "2025-05-05T12:14:13.849389Z",
     "start_time": "2025-05-05T12:14:13.845557Z"
    }
   },
   "cell_type": "code",
   "source": "model_name = \"gemma2-9b-it\"",
   "id": "7bf0c0125360fad1",
   "outputs": [],
   "execution_count": 28
  },
  {
   "metadata": {
    "ExecuteTime": {
     "end_time": "2025-05-05T12:21:09.448532Z",
     "start_time": "2025-05-05T12:21:09.440580Z"
    }
   },
   "cell_type": "code",
   "source": [
    "from llama_index.llms.groq import Groq\n",
    "\n",
    "llm = Groq(model=model_name, api_key=key, temperature=0.0,)"
   ],
   "id": "b80132f81c384004",
   "outputs": [],
   "execution_count": 41
  },
  {
   "metadata": {
    "ExecuteTime": {
     "end_time": "2025-05-05T12:14:15.515561Z",
     "start_time": "2025-05-05T12:14:15.506550Z"
    }
   },
   "cell_type": "code",
   "source": [
    "from pydantic import BaseModel\n",
    "from typing import Any\n",
    "\n",
    "class TabelCell(BaseModel):\n",
    "    content: Any\n",
    "    rowspan: int = 1\n",
    "    colspan: int = 1\n",
    "\n",
    "class Table(BaseModel):\n",
    "    \"\"\"Table in normalized format\"\"\"\n",
    "    cells   : list[list[TabelCell]]\n",
    "\n",
    "    caption : str | None = None\n",
    "    content : str | None = None\n",
    "    label   : str | None = None"
   ],
   "id": "30e227062fb7f89c",
   "outputs": [],
   "execution_count": 30
  },
  {
   "metadata": {
    "ExecuteTime": {
     "end_time": "2025-05-05T13:06:50.301586Z",
     "start_time": "2025-05-05T13:06:50.298034Z"
    }
   },
   "cell_type": "code",
   "source": [
    "tex_doc = r\"\"\"\n",
    "\\begin{table}\n",
    "\\centering\n",
    "\\begin{tabular}{l|r}\n",
    "Item & Quantity \\\\\\hline\n",
    "Widgets & 42 \\\\\n",
    "Gadgets & 13\n",
    "\\end{tabular}\n",
    "\\caption{\\label{tab:widgets}An example table.}\n",
    "\\end{table}\n",
    "\"\"\""
   ],
   "id": "2dcf839c53ae92de",
   "outputs": [],
   "execution_count": 123
  },
  {
   "metadata": {
    "ExecuteTime": {
     "end_time": "2025-05-05T13:06:50.598709Z",
     "start_time": "2025-05-05T13:06:50.594215Z"
    }
   },
   "cell_type": "code",
   "source": "import json",
   "id": "63a738d2849426e9",
   "outputs": [],
   "execution_count": 124
  },
  {
   "metadata": {
    "ExecuteTime": {
     "end_time": "2025-05-05T13:21:29.191313Z",
     "start_time": "2025-05-05T13:21:27.957030Z"
    }
   },
   "cell_type": "code",
   "source": [
    "prompt = fr\"\"\"\n",
    "Convert the following LaTeX tabular to a JSON object with this structure:\n",
    "\n",
    "Table:\n",
    "- cells: list[list[TabelCell]]\n",
    "- TabelCell: content, colspan, rowspan\n",
    "\n",
    "Please generate JSON with LaTeX formulas, making sure to double escape all backslashes for LaTeX commands (use \\\\\\\\ instead of \\\\) to ensure valid JSON parsing.\n",
    "\n",
    "This json is going to be used for a pydantic model.\n",
    "\n",
    "Pydantic model structure:\n",
    "{Table.model_json_schema()}\n",
    "\n",
    "LATEX:\n",
    "{tex_doc}\n",
    "\"\"\"\n",
    "\n",
    "response = llm.complete(prompt)"
   ],
   "id": "de569167c19acae5",
   "outputs": [],
   "execution_count": 133
  },
  {
   "metadata": {
    "ExecuteTime": {
     "end_time": "2025-05-05T13:21:30.957413Z",
     "start_time": "2025-05-05T13:21:30.952044Z"
    }
   },
   "cell_type": "code",
   "source": "r = str(response)",
   "id": "67f88a1d9822789e",
   "outputs": [],
   "execution_count": 134
  },
  {
   "metadata": {
    "ExecuteTime": {
     "end_time": "2025-05-05T13:21:33.050015Z",
     "start_time": "2025-05-05T13:21:33.044018Z"
    }
   },
   "cell_type": "code",
   "source": "r",
   "id": "eb4b136276ab860f",
   "outputs": [
    {
     "data": {
      "text/plain": [
       "'```json\\n{\\n  \"cells\": [\\n    [\\n      {\\n        \"content\": \"Item\",\\n        \"colspan\": 1,\\n        \"rowspan\": 1\\n      },\\n      {\\n        \"content\": \"Quantity\",\\n        \"colspan\": 1,\\n        \"rowspan\": 1\\n      }\\n    ],\\n    [\\n      {\\n        \"content\": \"Widgets\",\\n        \"colspan\": 1,\\n        \"rowspan\": 1\\n      },\\n      {\\n        \"content\": \"42\",\\n        \"colspan\": 1,\\n        \"rowspan\": 1\\n      }\\n    ],\\n    [\\n      {\\n        \"content\": \"Gadgets\",\\n        \"colspan\": 1,\\n        \"rowspan\": 1\\n      },\\n      {\\n        \"content\": \"13\",\\n        \"colspan\": 1,\\n        \"rowspan\": 1\\n      }\\n    ]\\n  ],\\n  \"caption\": \"An example table.\",\\n  \"content\": null,\\n  \"label\": \"tab:widgets\"\\n}\\n``` \\n\\n\\n**Explanation:**\\n\\n* **cells:** This array holds the table cells. Each cell is represented as another array containing `TabelCell` objects.\\n* **TabelCell:** Each `TabelCell` object has three properties:\\n    * **content:** The text content of the cell. LaTeX formulas are preserved as strings.\\n    * **colspan:** The number of columns this cell spans.\\n    * **rowspan:** The number of rows this cell spans.\\n\\n* **caption:** The caption of the table.\\n* **content:**  This field is set to `null` as it\\'s not present in the LaTeX.\\n* **label:** The LaTeX label for the table.\\n\\n\\n\\nLet me know if you have any other LaTeX tables you\\'d like to convert!\\n'"
      ]
     },
     "execution_count": 135,
     "metadata": {},
     "output_type": "execute_result"
    }
   ],
   "execution_count": 135
  },
  {
   "metadata": {
    "ExecuteTime": {
     "end_time": "2025-05-05T13:21:48.413806Z",
     "start_time": "2025-05-05T13:21:48.409553Z"
    }
   },
   "cell_type": "code",
   "source": [
    "left = r.index(\"{\")\n",
    "right = r.rindex(\"}\")"
   ],
   "id": "3146461178f2f550",
   "outputs": [],
   "execution_count": 136
  },
  {
   "metadata": {
    "ExecuteTime": {
     "end_time": "2025-05-05T13:21:49.861428Z",
     "start_time": "2025-05-05T13:21:49.853924Z"
    }
   },
   "cell_type": "code",
   "source": "j = r[left:right+1]",
   "id": "612795c9c2a26ca7",
   "outputs": [],
   "execution_count": 137
  },
  {
   "metadata": {
    "ExecuteTime": {
     "end_time": "2025-05-05T13:21:52.101733Z",
     "start_time": "2025-05-05T13:21:52.097215Z"
    }
   },
   "cell_type": "code",
   "source": "data = json.loads(j)",
   "id": "b8eabab222d2bdd0",
   "outputs": [],
   "execution_count": 138
  },
  {
   "metadata": {
    "ExecuteTime": {
     "end_time": "2025-05-05T13:21:54.099390Z",
     "start_time": "2025-05-05T13:21:54.094895Z"
    }
   },
   "cell_type": "code",
   "source": "table = Table(**data)",
   "id": "4d3c1bdb0db71f37",
   "outputs": [],
   "execution_count": 139
  },
  {
   "metadata": {
    "ExecuteTime": {
     "end_time": "2025-05-05T13:21:55.671158Z",
     "start_time": "2025-05-05T13:21:55.665781Z"
    }
   },
   "cell_type": "code",
   "source": "table",
   "id": "191f4c8ac0172305",
   "outputs": [
    {
     "data": {
      "text/plain": [
       "Table(cells=[[TabelCell(content='Item', rowspan=1, colspan=1), TabelCell(content='Quantity', rowspan=1, colspan=1)], [TabelCell(content='Widgets', rowspan=1, colspan=1), TabelCell(content='42', rowspan=1, colspan=1)], [TabelCell(content='Gadgets', rowspan=1, colspan=1), TabelCell(content='13', rowspan=1, colspan=1)]], caption='An example table.', content=None, label='tab:widgets')"
      ]
     },
     "execution_count": 140,
     "metadata": {},
     "output_type": "execute_result"
    }
   ],
   "execution_count": 140
  },
  {
   "metadata": {
    "ExecuteTime": {
     "end_time": "2025-05-05T12:58:31.922672Z",
     "start_time": "2025-05-05T12:58:31.918010Z"
    }
   },
   "cell_type": "code",
   "source": [
    "for row in table.cells:\n",
    "    print(row)"
   ],
   "id": "d803563f0c2c35a",
   "outputs": [
    {
     "name": "stdout",
     "output_type": "stream",
     "text": [
      "[TabelCell(content='Element 1\\\\\\\\', rowspan=1, colspan=3), TabelCell(content='Element\\\\\\\\', rowspan=1, colspan=3)]\n",
      "[TabelCell(content='Projectile', rowspan=1, colspan=1), TabelCell(content='Energy\\\\\\\\', rowspan=1, colspan=1), TabelCell(content='\\\\(\\\\sigma_{calc}\\\\)', rowspan=1, colspan=1), TabelCell(content='\\\\(\\\\sigma_{expt}\\\\)', rowspan=1, colspan=1), TabelCell(content='Energy\\\\\\\\', rowspan=1, colspan=1), TabelCell(content='\\\\(\\\\sigma_{calc}\\\\)', rowspan=1, colspan=1), TabelCell(content='\\\\(\\\\sigma_{expt}\\\\)', rowspan=1, colspan=1)]\n",
      "[TabelCell(content='Element 3', rowspan=1, colspan=1), TabelCell(content='990 A', rowspan=1, colspan=1), TabelCell(content='1168', rowspan=1, colspan=1), TabelCell(content='$1547\\\\pm12$', rowspan=1, colspan=1), TabelCell(content='780 A', rowspan=1, colspan=1), TabelCell(content='1166', rowspan=1, colspan=1), TabelCell(content='$1239\\\\pm100$', rowspan=1, colspan=1)]\n",
      "[TabelCell(content='Element 4', rowspan=1, colspan=1), TabelCell(content='500 A', rowspan=1, colspan=1), TabelCell(content='961', rowspan=1, colspan=1), TabelCell(content='$922\\\\pm10$', rowspan=1, colspan=1), TabelCell(content='900 A', rowspan=1, colspan=1), TabelCell(content='1268', rowspan=1, colspan=1), TabelCell(content='$1092\\\\pm40$', rowspan=1, colspan=1)]\n",
      "[TabelCell(content='Element 5', rowspan=1, colspan=1), TabelCell(content='990 A', rowspan=1, colspan=1), TabelCell(content='1168', rowspan=1, colspan=1), TabelCell(content='$1547\\\\pm12$', rowspan=1, colspan=1), TabelCell(content='780 A', rowspan=1, colspan=1), TabelCell(content='1166', rowspan=1, colspan=1), TabelCell(content='$1239\\\\pm100$', rowspan=1, colspan=1)]\n",
      "[TabelCell(content='Element 6', rowspan=1, colspan=1), TabelCell(content='500 A', rowspan=1, colspan=1), TabelCell(content='961', rowspan=1, colspan=1), TabelCell(content='$922\\\\pm10$', rowspan=1, colspan=1), TabelCell(content='900 A', rowspan=1, colspan=1), TabelCell(content='1268', rowspan=1, colspan=1), TabelCell(content='$1092\\\\pm40$', rowspan=1, colspan=1)]\n"
     ]
    }
   ],
   "execution_count": 121
  },
  {
   "metadata": {
    "ExecuteTime": {
     "end_time": "2025-05-05T14:41:40.431526Z",
     "start_time": "2025-05-05T14:41:40.427737Z"
    }
   },
   "cell_type": "code",
   "source": [
    "def miau(cox: int | str):\n",
    "    print(\"ham\")"
   ],
   "id": "751f38fc0988d938",
   "outputs": [],
   "execution_count": 3
  },
  {
   "metadata": {
    "ExecuteTime": {
     "end_time": "2025-05-05T14:41:49.407038Z",
     "start_time": "2025-05-05T14:41:49.402533Z"
    }
   },
   "cell_type": "code",
   "source": "miau(2)",
   "id": "b2d937902aeec63d",
   "outputs": [
    {
     "name": "stdout",
     "output_type": "stream",
     "text": [
      "ham\n"
     ]
    }
   ],
   "execution_count": 5
  },
  {
   "metadata": {
    "ExecuteTime": {
     "end_time": "2025-05-05T18:19:31.657277Z",
     "start_time": "2025-05-05T18:19:31.648891Z"
    }
   },
   "cell_type": "code",
   "source": [
    "from pydantic import BaseModel\n",
    "\n",
    "class NormalisedNode(BaseModel):\n",
    "    \"\"\"Base class for normalized elements\"\"\"\n",
    "    original_content: str\n",
    "\n",
    "    def __str__(self):\n",
    "        return f\"{self.__class__.__name__}(miau)\"\n",
    "\n",
    "    def __repr__(self):\n",
    "        return str(self)\n",
    "\n",
    "class Text(NormalisedNode):\n",
    "    text: str"
   ],
   "id": "11ee0dcf476b635",
   "outputs": [],
   "execution_count": 16
  },
  {
   "metadata": {
    "ExecuteTime": {
     "end_time": "2025-05-05T18:19:31.874965Z",
     "start_time": "2025-05-05T18:19:31.869465Z"
    }
   },
   "cell_type": "code",
   "source": [
    "txt = Text(text=\"hello\", original_content=\"miau\")\n",
    "print(txt)"
   ],
   "id": "5f8da09b4cbdfdce",
   "outputs": [
    {
     "name": "stdout",
     "output_type": "stream",
     "text": [
      "Text(miau)\n"
     ]
    }
   ],
   "execution_count": 17
  },
  {
   "metadata": {
    "ExecuteTime": {
     "end_time": "2025-05-05T18:56:15.044381Z",
     "start_time": "2025-05-05T18:56:15.038383Z"
    }
   },
   "cell_type": "code",
   "source": [
    "import json\n",
    "\n",
    "# Example JSON string with LaTeX commands\n",
    "json_string = '{\"formula\": \"E = mc^2 \\\\\\\\alpha\"}'\n",
    "\n",
    "# Parse the JSON\n",
    "data = json.loads(json_string)\n",
    "\n",
    "# Access the LaTeX formula\n",
    "latex_formula = data[\"formula\"]\n",
    "print(latex_formula)  # Output: E = mc^2 \\alpha"
   ],
   "id": "b070eddf7bd5f67e",
   "outputs": [
    {
     "name": "stdout",
     "output_type": "stream",
     "text": [
      "E = mc^2 \\alpha\n"
     ]
    }
   ],
   "execution_count": 18
  }
 ],
 "metadata": {
  "kernelspec": {
   "display_name": "Python 3",
   "language": "python",
   "name": "python3"
  },
  "language_info": {
   "codemirror_mode": {
    "name": "ipython",
    "version": 2
   },
   "file_extension": ".py",
   "mimetype": "text/x-python",
   "name": "python",
   "nbconvert_exporter": "python",
   "pygments_lexer": "ipython2",
   "version": "2.7.6"
  }
 },
 "nbformat": 4,
 "nbformat_minor": 5
}

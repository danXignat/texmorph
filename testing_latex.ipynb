{
 "cells": [
  {
   "metadata": {
    "ExecuteTime": {
     "end_time": "2025-05-01T19:43:22.442473Z",
     "start_time": "2025-05-01T19:43:22.418413Z"
    }
   },
   "cell_type": "code",
   "source": "from utils.compile import compile_tex",
   "id": "8462c9189b019603",
   "outputs": [],
   "execution_count": 1
  },
  {
   "metadata": {
    "ExecuteTime": {
     "end_time": "2025-05-05T19:40:15.488671Z",
     "start_time": "2025-05-05T19:40:15.469603Z"
    }
   },
   "cell_type": "code",
   "source": [
    "test_file = 'data/TEST/test_file.tex'\n",
    "ieee_file = 'data/IEEE/conference_101719.tex'\n",
    "spring_file = \"data/SPRINGER/sn-article.tex\"\n",
    "\n",
    "tex_doc = r\"\"\"\n",
    "\\begin{document}\n",
    "        \\begin{table}\n",
    "        \\centering\n",
    "        \\begin{tabular}{l|r}\n",
    "        Item & Quantity \\\\\\hline\n",
    "        Widgets & 42 \\\\\n",
    "        Gadgets & 13\n",
    "        \\end{tabular}\n",
    "        \\caption{\\label{tab:widgets}An example table.}\n",
    "        \\end{table}\n",
    "        \\end{document}\n",
    "\"\"\""
   ],
   "id": "c66676bc47dc6380",
   "outputs": [],
   "execution_count": 23
  },
  {
   "metadata": {
    "ExecuteTime": {
     "end_time": "2025-05-05T19:40:15.661129Z",
     "start_time": "2025-05-05T19:40:15.653992Z"
    }
   },
   "cell_type": "code",
   "source": [
    "from TexSoup import TexSoup, TexNode\n",
    "from TexSoup.reader import TexCmd, TexGroup\n",
    "from TexSoup.data import BraceGroup, BracketGroup, TexExpr, TexEnv, TexNamedEnv, TexMathModeEnv\n",
    "from TexSoup.category import categorize\n",
    "from TexSoup.tokens import tokenize, next_token\n",
    "from TexSoup.utils import Token"
   ],
   "id": "dc1ac1c8f2532d32",
   "outputs": [],
   "execution_count": 24
  },
  {
   "metadata": {
    "ExecuteTime": {
     "end_time": "2025-05-05T19:42:51.062269Z",
     "start_time": "2025-05-05T19:42:51.054816Z"
    }
   },
   "cell_type": "code",
   "source": [
    "node1 = TexSoup(\"\\\\section{miau}\")\n",
    "node2 = TexSoup(\"\\\\textbf\")"
   ],
   "id": "51959f1780e11f79",
   "outputs": [],
   "execution_count": 33
  },
  {
   "metadata": {
    "ExecuteTime": {
     "end_time": "2025-05-05T19:42:57.761705Z",
     "start_time": "2025-05-05T19:42:57.724641Z"
    }
   },
   "cell_type": "code",
   "source": "node1 + node2",
   "id": "b5d244d9ab904621",
   "outputs": [
    {
     "ename": "TypeError",
     "evalue": "unsupported operand type(s) for +: 'TexNode' and 'TexNode'",
     "output_type": "error",
     "traceback": [
      "\u001B[31m---------------------------------------------------------------------------\u001B[39m",
      "\u001B[31mTypeError\u001B[39m                                 Traceback (most recent call last)",
      "\u001B[36mCell\u001B[39m\u001B[36m \u001B[39m\u001B[32mIn[34]\u001B[39m\u001B[32m, line 1\u001B[39m\n\u001B[32m----> \u001B[39m\u001B[32m1\u001B[39m node1 + node2\n",
      "\u001B[31mTypeError\u001B[39m: unsupported operand type(s) for +: 'TexNode' and 'TexNode'"
     ]
    }
   ],
   "execution_count": 34
  },
  {
   "metadata": {
    "ExecuteTime": {
     "end_time": "2025-05-03T14:28:18.247554Z",
     "start_time": "2025-05-03T14:28:18.241541Z"
    }
   },
   "cell_type": "code",
   "source": "ls[0].args",
   "id": "965284ae61328639",
   "outputs": [
    {
     "data": {
      "text/plain": [
       "[BracketGroup('title'), BraceGroup('amsmath,amssymb,amsfonts')]"
      ]
     },
     "execution_count": 78,
     "metadata": {},
     "output_type": "execute_result"
    }
   ],
   "execution_count": 78
  },
  {
   "metadata": {
    "ExecuteTime": {
     "end_time": "2025-05-03T11:57:27.589925Z",
     "start_time": "2025-05-03T11:57:27.584904Z"
    }
   },
   "cell_type": "code",
   "source": [
    "def parse(node):\n",
    "    print(type(node.expr))\n",
    "\n",
    "    for child in node.children:\n",
    "        parse(child)\n",
    "\n",
    "parse(soup)"
   ],
   "id": "5bbecc3a99b3d70d",
   "outputs": [
    {
     "name": "stdout",
     "output_type": "stream",
     "text": [
      "<class 'TexSoup.data.TexEnv'> \n",
      "$\\sigma_{calc}$\n",
      "\n",
      "<class 'TexSoup.data.TexMathModeEnv'> $\\sigma_{calc}$\n",
      "<class 'TexSoup.data.TexCmd'> \\sigma\n",
      "<class 'TexSoup.data.BraceGroup'> {calc}\n"
     ]
    }
   ],
   "execution_count": 37
  },
  {
   "metadata": {
    "ExecuteTime": {
     "end_time": "2025-05-03T11:25:07.367861Z",
     "start_time": "2025-05-03T11:25:07.362888Z"
    }
   },
   "cell_type": "code",
   "source": "type(cont1[0][1].expr)",
   "id": "c78a68880e5c81f3",
   "outputs": [
    {
     "data": {
      "text/plain": [
       "TexSoup.data.TexCmd"
      ]
     },
     "execution_count": 89,
     "metadata": {},
     "output_type": "execute_result"
    }
   ],
   "execution_count": 89
  },
  {
   "metadata": {
    "ExecuteTime": {
     "end_time": "2025-05-03T14:37:22.461245Z",
     "start_time": "2025-05-03T14:37:22.455884Z"
    }
   },
   "cell_type": "code",
   "source": "from enum import StrEnum",
   "id": "c2f60fe373d2b919",
   "outputs": [],
   "execution_count": 79
  },
  {
   "metadata": {
    "ExecuteTime": {
     "end_time": "2025-05-03T14:37:35.004531Z",
     "start_time": "2025-05-03T14:37:34.999199Z"
    }
   },
   "cell_type": "code",
   "source": [
    "class miu(StrEnum):\n",
    "    HAM: str = \"ham\""
   ],
   "id": "6b082ab7ec33fd49",
   "outputs": [],
   "execution_count": 80
  },
  {
   "metadata": {
    "ExecuteTime": {
     "end_time": "2025-05-03T14:38:10.083584Z",
     "start_time": "2025-05-03T14:38:10.078381Z"
    }
   },
   "cell_type": "code",
   "source": [
    "\n",
    "miu.HAM"
   ],
   "id": "b17623af32fe8b80",
   "outputs": [
    {
     "data": {
      "text/plain": [
       "<miu.HAM: 'ham'>"
      ]
     },
     "execution_count": 83,
     "metadata": {},
     "output_type": "execute_result"
    }
   ],
   "execution_count": 83
  },
  {
   "metadata": {
    "ExecuteTime": {
     "end_time": "2025-05-03T11:41:11.324005Z",
     "start_time": "2025-05-03T11:41:11.157275Z"
    }
   },
   "cell_type": "code",
   "source": "from pydantic import BaseModel",
   "id": "b18f059aff84213",
   "outputs": [],
   "execution_count": 1
  },
  {
   "metadata": {
    "ExecuteTime": {
     "end_time": "2025-05-03T11:41:16.563447Z",
     "start_time": "2025-05-03T11:41:16.459725Z"
    }
   },
   "cell_type": "code",
   "source": [
    "class Miau(BaseModel):\n",
    "    pass"
   ],
   "id": "f7c998fea60cf9d5",
   "outputs": [],
   "execution_count": 2
  },
  {
   "metadata": {
    "ExecuteTime": {
     "end_time": "2025-05-03T11:41:24.019951Z",
     "start_time": "2025-05-03T11:41:24.014396Z"
    }
   },
   "cell_type": "code",
   "source": [
    "class Ham(Miau):\n",
    "    pass"
   ],
   "id": "5a459f33230f6cf8",
   "outputs": [],
   "execution_count": 3
  },
  {
   "metadata": {
    "ExecuteTime": {
     "end_time": "2025-05-03T11:41:32.663304Z",
     "start_time": "2025-05-03T11:41:32.657930Z"
    }
   },
   "cell_type": "code",
   "source": [
    "class Guit(Ham):\n",
    "    pass"
   ],
   "id": "89bc8586157d928d",
   "outputs": [],
   "execution_count": 4
  },
  {
   "metadata": {
    "ExecuteTime": {
     "end_time": "2025-05-03T11:41:36.937744Z",
     "start_time": "2025-05-03T11:41:36.930196Z"
    }
   },
   "cell_type": "code",
   "source": "guit = Guit()",
   "id": "aa613b5c8697d3c",
   "outputs": [],
   "execution_count": 5
  },
  {
   "metadata": {
    "ExecuteTime": {
     "end_time": "2025-05-03T11:41:44.161121Z",
     "start_time": "2025-05-03T11:41:44.151835Z"
    }
   },
   "cell_type": "code",
   "source": "isinstance(guit, Guit)",
   "id": "64ce50c434160619",
   "outputs": [
    {
     "data": {
      "text/plain": [
       "True"
      ]
     },
     "execution_count": 6,
     "metadata": {},
     "output_type": "execute_result"
    }
   ],
   "execution_count": 6
  },
  {
   "metadata": {
    "ExecuteTime": {
     "end_time": "2025-05-03T11:41:51.185466Z",
     "start_time": "2025-05-03T11:41:51.179625Z"
    }
   },
   "cell_type": "code",
   "source": "isinstance(guit, Ham)",
   "id": "c88866569aaf424b",
   "outputs": [
    {
     "data": {
      "text/plain": [
       "True"
      ]
     },
     "execution_count": 7,
     "metadata": {},
     "output_type": "execute_result"
    }
   ],
   "execution_count": 7
  },
  {
   "metadata": {
    "ExecuteTime": {
     "end_time": "2025-05-03T11:41:56.272802Z",
     "start_time": "2025-05-03T11:41:56.267444Z"
    }
   },
   "cell_type": "code",
   "source": "isinstance(guit, Miau)",
   "id": "94976ea17e64784",
   "outputs": [
    {
     "data": {
      "text/plain": [
       "True"
      ]
     },
     "execution_count": 8,
     "metadata": {},
     "output_type": "execute_result"
    }
   ],
   "execution_count": 8
  },
  {
   "metadata": {
    "ExecuteTime": {
     "end_time": "2025-05-05T10:43:25.716008Z",
     "start_time": "2025-05-05T10:43:23.203556Z"
    }
   },
   "cell_type": "code",
   "source": "import spacy",
   "id": "3e44c26fb64c6a0a",
   "outputs": [],
   "execution_count": 1
  },
  {
   "metadata": {
    "ExecuteTime": {
     "end_time": "2025-05-05T10:43:26.530965Z",
     "start_time": "2025-05-05T10:43:25.722517Z"
    }
   },
   "cell_type": "code",
   "source": [
    "nlp = spacy.load(\"en_core_web_sm\")  # Load small English model\n",
    "doc = nlp(\"Barack Obama was born in Hawaii. He was president of the United States.\")"
   ],
   "id": "dc8e11a6f2fac741",
   "outputs": [],
   "execution_count": 2
  },
  {
   "metadata": {
    "ExecuteTime": {
     "end_time": "2025-05-05T10:37:09.513512Z",
     "start_time": "2025-05-05T10:37:09.505440Z"
    }
   },
   "cell_type": "code",
   "source": [
    "for i, token in enumerate(doc):\n",
    "    print(i, token.text, token.pos_, token.dep_)"
   ],
   "id": "3cfcebac8e04cf71",
   "outputs": [
    {
     "name": "stdout",
     "output_type": "stream",
     "text": [
      "0 Barack PROPN compound\n",
      "1 Obama PROPN nsubjpass\n",
      "2 was AUX auxpass\n",
      "3 born VERB ROOT\n",
      "4 in ADP prep\n",
      "5 Hawaii PROPN pobj\n",
      "6 . PUNCT punct\n",
      "7 He PRON nsubj\n",
      "8 was AUX ROOT\n",
      "9 president NOUN attr\n",
      "10 of ADP prep\n",
      "11 the DET det\n",
      "12 United PROPN compound\n",
      "13 States PROPN pobj\n",
      "14 . PUNCT punct\n"
     ]
    }
   ],
   "execution_count": 5
  },
  {
   "metadata": {
    "ExecuteTime": {
     "end_time": "2025-05-05T10:43:26.954383Z",
     "start_time": "2025-05-05T10:43:26.950700Z"
    }
   },
   "cell_type": "code",
   "source": "from spacy import displacy",
   "id": "25cceb9fb394412c",
   "outputs": [],
   "execution_count": 3
  },
  {
   "metadata": {
    "ExecuteTime": {
     "end_time": "2025-05-05T10:44:31.231913Z",
     "start_time": "2025-05-05T10:44:31.154951Z"
    }
   },
   "cell_type": "code",
   "source": "displacy.render(doc, style=\"ent\", jupyter=True)",
   "id": "63b1c0b28d0c63ea",
   "outputs": [
    {
     "ename": "ImportError",
     "evalue": "cannot import name 'display' from 'IPython.core.display' (C:\\Users\\ignat\\miniconda3\\envs\\latex\\Lib\\site-packages\\IPython\\core\\display.py)",
     "output_type": "error",
     "traceback": [
      "\u001B[31m---------------------------------------------------------------------------\u001B[39m",
      "\u001B[31mImportError\u001B[39m                               Traceback (most recent call last)",
      "\u001B[36mCell\u001B[39m\u001B[36m \u001B[39m\u001B[32mIn[7]\u001B[39m\u001B[32m, line 1\u001B[39m\n\u001B[32m----> \u001B[39m\u001B[32m1\u001B[39m displacy.render(doc, style=\u001B[33m\"\u001B[39m\u001B[33ment\u001B[39m\u001B[33m\"\u001B[39m, jupyter=\u001B[38;5;28;01mTrue\u001B[39;00m)\n",
      "\u001B[36mFile \u001B[39m\u001B[32m~\\miniconda3\\envs\\latex\\Lib\\site-packages\\spacy\\displacy\\__init__.py:69\u001B[39m, in \u001B[36mrender\u001B[39m\u001B[34m(docs, style, page, minify, jupyter, options, manual)\u001B[39m\n\u001B[32m     65\u001B[39m     html = RENDER_WRAPPER(html)\n\u001B[32m     66\u001B[39m \u001B[38;5;28;01mif\u001B[39;00m jupyter \u001B[38;5;129;01mor\u001B[39;00m (jupyter \u001B[38;5;129;01mis\u001B[39;00m \u001B[38;5;28;01mNone\u001B[39;00m \u001B[38;5;129;01mand\u001B[39;00m is_in_jupyter()):\n\u001B[32m     67\u001B[39m     \u001B[38;5;66;03m# return HTML rendered by IPython display()\u001B[39;00m\n\u001B[32m     68\u001B[39m     \u001B[38;5;66;03m# See #4840 for details on span wrapper to disable mathjax\u001B[39;00m\n\u001B[32m---> \u001B[39m\u001B[32m69\u001B[39m     \u001B[38;5;28;01mfrom\u001B[39;00m\u001B[38;5;250m \u001B[39m\u001B[34;01mIPython\u001B[39;00m\u001B[34;01m.\u001B[39;00m\u001B[34;01mcore\u001B[39;00m\u001B[34;01m.\u001B[39;00m\u001B[34;01mdisplay\u001B[39;00m\u001B[38;5;250m \u001B[39m\u001B[38;5;28;01mimport\u001B[39;00m HTML, display\n\u001B[32m     71\u001B[39m     \u001B[38;5;28;01mreturn\u001B[39;00m display(HTML(\u001B[33m'\u001B[39m\u001B[33m<span class=\u001B[39m\u001B[33m\"\u001B[39m\u001B[33mtex2jax_ignore\u001B[39m\u001B[33m\"\u001B[39m\u001B[33m>\u001B[39m\u001B[38;5;132;01m{}\u001B[39;00m\u001B[33m</span>\u001B[39m\u001B[33m'\u001B[39m.format(html)))\n\u001B[32m     72\u001B[39m \u001B[38;5;28;01mreturn\u001B[39;00m html\n",
      "\u001B[31mImportError\u001B[39m: cannot import name 'display' from 'IPython.core.display' (C:\\Users\\ignat\\miniconda3\\envs\\latex\\Lib\\site-packages\\IPython\\core\\display.py)"
     ]
    }
   ],
   "execution_count": 7
  },
  {
   "metadata": {
    "ExecuteTime": {
     "end_time": "2025-05-05T10:41:33.524056Z",
     "start_time": "2025-05-05T10:41:33.506229Z"
    }
   },
   "cell_type": "code",
   "source": "",
   "id": "7b81e8fa5fce04b5",
   "outputs": [],
   "execution_count": 5
  },
  {
   "metadata": {
    "ExecuteTime": {
     "end_time": "2025-05-05T11:43:52.633805Z",
     "start_time": "2025-05-05T11:43:52.627958Z"
    }
   },
   "cell_type": "code",
   "source": "from pydantic import BaseModel",
   "id": "e63884a710b66d02",
   "outputs": [],
   "execution_count": 29
  },
  {
   "metadata": {
    "ExecuteTime": {
     "end_time": "2025-05-05T11:44:07.295774Z",
     "start_time": "2025-05-05T11:44:07.013551Z"
    }
   },
   "cell_type": "code",
   "source": [
    "class Miau(BaseModel):\n",
    "    ham: str = \"ham\""
   ],
   "id": "ae54445e7372433c",
   "outputs": [],
   "execution_count": 30
  },
  {
   "metadata": {
    "ExecuteTime": {
     "end_time": "2025-05-05T11:44:54.006779Z",
     "start_time": "2025-05-05T11:44:53.985738Z"
    }
   },
   "cell_type": "code",
   "source": "Miau.model_json_schema()",
   "id": "e2030bcb8bc21c65",
   "outputs": [
    {
     "data": {
      "text/plain": [
       "{'properties': {'ham': {'default': 'ham', 'title': 'Ham', 'type': 'string'}},\n",
       " 'title': 'Miau',\n",
       " 'type': 'object'}"
      ]
     },
     "execution_count": 34,
     "metadata": {},
     "output_type": "execute_result"
    }
   ],
   "execution_count": 34
  },
  {
   "metadata": {
    "ExecuteTime": {
     "end_time": "2025-05-05T20:12:06.612327Z",
     "start_time": "2025-05-05T20:12:06.608627Z"
    }
   },
   "cell_type": "code",
   "source": [
    "ls = []\n",
    "\n",
    "ls.append(None)\n",
    "ls.append(None)"
   ],
   "id": "72df798f3ee79e36",
   "outputs": [],
   "execution_count": 38
  },
  {
   "metadata": {
    "ExecuteTime": {
     "end_time": "2025-05-05T20:12:07.207094Z",
     "start_time": "2025-05-05T20:12:07.201457Z"
    }
   },
   "cell_type": "code",
   "source": "ls",
   "id": "1980a6008a3a0134",
   "outputs": [
    {
     "data": {
      "text/plain": [
       "[None, None]"
      ]
     },
     "execution_count": 39,
     "metadata": {},
     "output_type": "execute_result"
    }
   ],
   "execution_count": 39
  },
  {
   "metadata": {},
   "cell_type": "code",
   "outputs": [],
   "execution_count": null,
   "source": "",
   "id": "c9fa238cd9d7799a"
  }
 ],
 "metadata": {
  "kernelspec": {
   "display_name": "Python 3",
   "language": "python",
   "name": "python3"
  },
  "language_info": {
   "codemirror_mode": {
    "name": "ipython",
    "version": 2
   },
   "file_extension": ".py",
   "mimetype": "text/x-python",
   "name": "python",
   "nbconvert_exporter": "python",
   "pygments_lexer": "ipython2",
   "version": "2.7.6"
  }
 },
 "nbformat": 4,
 "nbformat_minor": 5
}

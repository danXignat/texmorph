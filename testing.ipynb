{
 "cells": [
  {
   "metadata": {
    "ExecuteTime": {
     "end_time": "2025-04-29T11:56:10.516185Z",
     "start_time": "2025-04-29T11:56:10.477558Z"
    }
   },
   "cell_type": "code",
   "source": "from utils.compile import compile_tex",
   "id": "8462c9189b019603",
   "outputs": [],
   "execution_count": 3
  },
  {
   "metadata": {
    "ExecuteTime": {
     "end_time": "2025-04-29T11:56:04.743284Z",
     "start_time": "2025-04-29T11:56:04.736175Z"
    }
   },
   "cell_type": "code",
   "source": [
    "test_file = 'data/TEST/test_file.tex'\n",
    "ieee_file = 'data/IEEE/conference_101719.tex'\n",
    "spring_file = \"data/SPRINGER/sn-article.tex\"\n",
    "\n",
    "tex_doc = r\"\"\"\n",
    "\\begin{document}\n",
    "\\section{Hello \\textit{world}.}\n",
    "\\subsection{Watermelon}\n",
    "(n.) A sacred fruit. Also known as:\n",
    "\\begin{itemize}\n",
    "  \\item red lemon\n",
    "  \\item life\n",
    "\\end{itemize}\n",
    "Here is the prevalence of each synonym, in Table \\ref{table:synonyms}.\n",
    "\\begin{tabular}{c c}\\label{table:synonyms}\n",
    "  red lemon & uncommon \\\\ \\n\n",
    "  life & common\n",
    "\\end{tabular}\n",
    "\\end{document}\n",
    "\"\"\""
   ],
   "id": "c66676bc47dc6380",
   "outputs": [],
   "execution_count": 1
  },
  {
   "metadata": {
    "ExecuteTime": {
     "end_time": "2025-04-29T11:56:14.776713Z",
     "start_time": "2025-04-29T11:56:12.214638Z"
    }
   },
   "cell_type": "code",
   "source": "compile_tex(test_file)",
   "id": "c5836056a1e199a5",
   "outputs": [
    {
     "data": {
      "text/plain": [
       "File \u001B[1;32mdata/TEST/test_file.tex\u001B[0m took \u001B[1;3;32m2.3526\u001B[0m\u001B[3;32m seconds\u001B[0m to compile\n"
      ],
      "text/html": [
       "<pre style=\"white-space:pre;overflow-x:auto;line-height:normal;font-family:Menlo,'DejaVu Sans Mono',consolas,'Courier New',monospace\">File <span style=\"color: #008000; text-decoration-color: #008000; font-weight: bold\">data/TEST/test_file.tex</span> took <span style=\"color: #008000; text-decoration-color: #008000; font-weight: bold; font-style: italic\">2.3526</span><span style=\"color: #008000; text-decoration-color: #008000; font-style: italic\"> seconds</span> to compile\n",
       "</pre>\n"
      ]
     },
     "metadata": {},
     "output_type": "display_data"
    }
   ],
   "execution_count": 4
  },
  {
   "metadata": {
    "ExecuteTime": {
     "end_time": "2025-04-29T11:15:40.966054Z",
     "start_time": "2025-04-29T11:15:40.960966Z"
    }
   },
   "cell_type": "code",
   "source": [
    "from TexSoup import TexSoup, TexNode\n",
    "from TexSoup.reader import TexCmd, TexGroup\n",
    "from TexSoup.data import BraceGroup, BracketGroup\n",
    "from TexSoup.category import categorize\n",
    "from TexSoup.tokens import tokenize, next_token"
   ],
   "id": "dc1ac1c8f2532d32",
   "outputs": [],
   "execution_count": 293
  },
  {
   "metadata": {
    "ExecuteTime": {
     "end_time": "2025-04-29T11:46:08.446113Z",
     "start_time": "2025-04-29T11:46:07.918179Z"
    }
   },
   "cell_type": "code",
   "source": "soup = TexSoup(open(test_file).read())",
   "id": "dd8cd6c5544317b7",
   "outputs": [],
   "execution_count": 309
  },
  {
   "metadata": {
    "ExecuteTime": {
     "end_time": "2025-04-29T11:46:09.103695Z",
     "start_time": "2025-04-29T11:46:09.093012Z"
    }
   },
   "cell_type": "code",
   "source": [
    "doc_class = soup.documentclass\n",
    "doc_class"
   ],
   "id": "284cdafef45c1dc1",
   "outputs": [
    {
     "data": {
      "text/plain": [
       "\\documentclass{article}"
      ]
     },
     "execution_count": 310,
     "metadata": {},
     "output_type": "execute_result"
    }
   ],
   "execution_count": 310
  },
  {
   "metadata": {
    "ExecuteTime": {
     "end_time": "2025-04-29T11:46:10.734886Z",
     "start_time": "2025-04-29T11:46:10.729623Z"
    }
   },
   "cell_type": "code",
   "source": [
    "args = doc_class.args\n",
    "args"
   ],
   "id": "58ae1af7e5ab62f2",
   "outputs": [
    {
     "data": {
      "text/plain": [
       "[BraceGroup('article')]"
      ]
     },
     "execution_count": 311,
     "metadata": {},
     "output_type": "execute_result"
    }
   ],
   "execution_count": 311
  },
  {
   "metadata": {
    "ExecuteTime": {
     "end_time": "2025-04-29T11:50:41.478102Z",
     "start_time": "2025-04-29T11:50:41.467323Z"
    }
   },
   "cell_type": "code",
   "source": [
    "packages = []\n",
    "for pkg in soup.find_all('usepackage'):\n",
    "    packages.append({\n",
    "        \"name\": pkg.name,\n",
    "        \"options\": pkg.args[0].string.split(\",\") if len(doc_class.args) > 1 else [],\n",
    "        \"class\": pkg.args[-1].string,\n",
    "    })\n",
    "packages"
   ],
   "id": "7621f8730cc936b0",
   "outputs": [
    {
     "data": {
      "text/plain": [
       "[{'name': 'usepackage', 'options': [], 'class': 'babel'},\n",
       " {'name': 'usepackage', 'options': [], 'class': 'geometry'},\n",
       " {'name': 'usepackage', 'options': [], 'class': 'amsmath'},\n",
       " {'name': 'usepackage', 'options': [], 'class': 'graphicx'},\n",
       " {'name': 'usepackage', 'options': [], 'class': 'hyperref'}]"
      ]
     },
     "execution_count": 325,
     "metadata": {},
     "output_type": "execute_result"
    }
   ],
   "execution_count": 325
  },
  {
   "metadata": {
    "ExecuteTime": {
     "end_time": "2025-04-29T11:43:54.846017Z",
     "start_time": "2025-04-29T11:43:54.839134Z"
    }
   },
   "cell_type": "code",
   "source": "\"miau\".split(',')",
   "id": "44f8b575e9b29be6",
   "outputs": [
    {
     "data": {
      "text/plain": [
       "['miau']"
      ]
     },
     "execution_count": 302,
     "metadata": {},
     "output_type": "execute_result"
    }
   ],
   "execution_count": 302
  },
  {
   "metadata": {},
   "cell_type": "code",
   "outputs": [],
   "execution_count": null,
   "source": "",
   "id": "da891f01773e7f5e"
  }
 ],
 "metadata": {
  "kernelspec": {
   "display_name": "Python 3",
   "language": "python",
   "name": "python3"
  },
  "language_info": {
   "codemirror_mode": {
    "name": "ipython",
    "version": 2
   },
   "file_extension": ".py",
   "mimetype": "text/x-python",
   "name": "python",
   "nbconvert_exporter": "python",
   "pygments_lexer": "ipython2",
   "version": "2.7.6"
  }
 },
 "nbformat": 4,
 "nbformat_minor": 5
}
